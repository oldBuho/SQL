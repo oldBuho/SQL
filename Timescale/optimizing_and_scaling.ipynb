{
 "cells": [
  {
   "cell_type": "markdown",
   "metadata": {},
   "source": [
    "#### DATABASE CONNECTION\n",
    "https://docs.timescale.com/getting-started/latest/services/\n",
    "<br>\n",
    "After initiating a Timescale service we proceed to create a database connection using psycopg2.\n",
    "<br>\n",
    "There are two types of Timescale services. A “time-series service” is selected for this project because, unlike “Dynamic PostgreSQL”, it’s the one which includes the requested TimescaleDB. Both services are 100% PostgreSQL and use usage-based storage."
   ]
  },
  {
   "cell_type": "code",
   "execution_count": 1,
   "metadata": {},
   "outputs": [],
   "source": [
    "# PostgreSQL database adapter -> https://www.psycopg.org/docs/\n",
    "import psycopg2"
   ]
  },
  {
   "cell_type": "code",
   "execution_count": 15,
   "metadata": {},
   "outputs": [],
   "source": [
    "# DB connection, Expires on Jan 7th 2024\n",
    "# Config data in timescale_credentials.sql file.  \n",
    "conn = psycopg2.connect(\n",
    "    host=\"fldr9dd2pe.ofb7ig8qpo.tsdb.cloud.timescale.com\",\n",
    "    port=39569,\n",
    "    database=\"tsdb\",\n",
    "    user=\"tsdbadmin\",\n",
    "    password=\"pq8ornq2cnpjnm3p\"\n",
    ")\n",
    "cursor = conn.cursor()"
   ]
  },
  {
   "cell_type": "markdown",
   "metadata": {},
   "source": [
    "#### OPTIMIZATION AND SCALING CONSIDERATIONS"
   ]
  },
  {
   "cell_type": "markdown",
   "metadata": {},
   "source": [
    "A) We could add an INDEX to the most populated, and ever growing table, \"stock\". This is a classic SQL approach to seek performance. \n",
    "<br>\n",
    "The expression would be:"
   ]
  },
  {
   "cell_type": "code",
   "execution_count": 10,
   "metadata": {},
   "outputs": [],
   "source": [
    "cursor.execute('''\n",
    "    CREATE INDEX ix_stock ON test_db.stock(symbol, time DESC);\n",
    "''')\n",
    "# commit changes to the database to make changes persistent\n",
    "conn.commit()\n",
    "# close cursor to end session and release resources.\n",
    "cursor.close()"
   ]
  },
  {
   "cell_type": "markdown",
   "metadata": {},
   "source": [
    "B) Improve performance by using Hypertables for the time-series tables. In this case, it was for the stock table. This makes use of the \"chunk\" concept, the cornerstone of Timescale. The default segmente of time in Timescale is 7 days. "
   ]
  },
  {
   "cell_type": "markdown",
   "metadata": {},
   "source": [
    "C) Timescale also offers a compression functionalty. Here a quote:\n",
    "<br>\n",
    "<i>\n",
    "Compressing your time-series data allows you to reduce your chunk size by more than 90%. This saves on storage costs, and keeps your queries operating at lightning speed.\n",
    "<br>\n",
    "When you enable compression, the data in your hypertable is compressed chunk by chunk. When the chunk is compressed, multiple records are grouped into a single row. The columns of this row hold an array-like structure that stores all the data. This means that instead of using lots of rows to store the data, it stores the same data in a single row. Because a single row takes up less disk space than many rows, it decreases the amount of disk space required, and can also speed up your queries.\n",
    "</i>\n",
    "<br><br>\n",
    "To take into consideration: Most indexes set on the hypertable are removed or ignored when reading from compressed chunks. Timescale creates and uses custom indexes to incorporate the segmentby and orderby parameters during compression.\n",
    "<br><br>\n",
    "https://docs.timescale.com/use-timescale/latest/compression/\n",
    "<br>\n",
    "https://www.youtube.com/watch?v=NOpRPzPL1x0"
   ]
  }
 ],
 "metadata": {
  "kernelspec": {
   "display_name": "Python 3",
   "language": "python",
   "name": "python3"
  },
  "language_info": {
   "codemirror_mode": {
    "name": "ipython",
    "version": 3
   },
   "file_extension": ".py",
   "mimetype": "text/x-python",
   "name": "python",
   "nbconvert_exporter": "python",
   "pygments_lexer": "ipython3",
   "version": "3.11.1"
  }
 },
 "nbformat": 4,
 "nbformat_minor": 2
}
