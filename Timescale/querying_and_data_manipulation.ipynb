{
 "cells": [
  {
   "cell_type": "markdown",
   "metadata": {},
   "source": [
    "#### DATABASE CONNECTION\n",
    "https://docs.timescale.com/getting-started/latest/services/\n",
    "<br>\n",
    "After initiating a Timescale service we proceed to create a database connection using psycopg2.\n",
    "<br>\n",
    "There are two types of Timescale services. A “time-series service” is selected for this project because, unlike “Dynamic PostgreSQL”, it’s the one which includes the requested TimescaleDB. Both services are 100% PostgreSQL and use usage-based storage."
   ]
  },
  {
   "cell_type": "code",
   "execution_count": 1,
   "metadata": {},
   "outputs": [],
   "source": [
    "# PostgreSQL database adapter -> https://www.psycopg.org/docs/\n",
    "import psycopg2\n",
    "# Pandas to improve queries output for insight.\n",
    "import pandas as pd"
   ]
  },
  {
   "cell_type": "code",
   "execution_count": 15,
   "metadata": {},
   "outputs": [],
   "source": [
    "# DB connection, Expires on Jan 7th 2024\n",
    "# Config data in timescale_credentials.sql file.  \n",
    "conn = psycopg2.connect(\n",
    "    host=\"fldr9dd2pe.ofb7ig8qpo.tsdb.cloud.timescale.com\",\n",
    "    port=39569,\n",
    "    database=\"tsdb\",\n",
    "    user=\"tsdbadmin\",\n",
    "    password=\"pq8ornq2cnpjnm3p\"\n",
    ")\n",
    "cursor = conn.cursor()"
   ]
  },
  {
   "cell_type": "markdown",
   "metadata": {},
   "source": [
    "#### CONNECTION TEST"
   ]
  },
  {
   "cell_type": "code",
   "execution_count": 3,
   "metadata": {},
   "outputs": [
    {
     "name": "stdout",
     "output_type": "stream",
     "text": [
      "[('Connected',)]\n"
     ]
    }
   ],
   "source": [
    "# Use the cursor to interact with your database\n",
    "query_testing = \"SELECT 'Connected';\" \n",
    "cursor.execute(query_testing)\n",
    "# Execution checking; alternatively use fetchone() or fetchmany() which has a \"size\" argument.\n",
    "# The result of fetchall() is a list of tuples\n",
    "print(cursor.fetchall())"
   ]
  },
  {
   "cell_type": "markdown",
   "metadata": {},
   "source": [
    "#### ANALYSIS AND INSIGHTS"
   ]
  },
  {
   "cell_type": "markdown",
   "metadata": {},
   "source": [
    "Analysis Period: 30 days."
   ]
  },
  {
   "cell_type": "code",
   "execution_count": 4,
   "metadata": {},
   "outputs": [
    {
     "name": "stdout",
     "output_type": "stream",
     "text": [
      "[(datetime.datetime(2023, 11, 8, 12, 0, 46, tzinfo=datetime.timezone.utc), datetime.datetime(2023, 12, 8, 11, 56, 48, tzinfo=datetime.timezone.utc))]\n"
     ]
    }
   ],
   "source": [
    "cursor.execute('''\n",
    "    SELECT \n",
    "        MIN(time), MAX(time)\n",
    "    FROM\n",
    "        test_db.stock AS stk\n",
    "''')\n",
    "print(cursor.fetchall()) "
   ]
  },
  {
   "cell_type": "markdown",
   "metadata": {},
   "source": [
    "As it can be appreciated, there are trading peaks. We'll study that info. This is useful also for marketing purposes because we know \"when\" to serve Ads, also to estimate engineer resources (i.e. don not run heavy pipelines at those hours if limited resources), etc. "
   ]
  },
  {
   "cell_type": "code",
   "execution_count": 5,
   "metadata": {},
   "outputs": [
    {
     "data": {
      "text/plain": [
       "[(Decimal('0'), 0.0),\n",
       " (Decimal('9'), 0.0),\n",
       " (Decimal('10'), 0.0),\n",
       " (Decimal('11'), 0.0),\n",
       " (Decimal('12'), 0.0),\n",
       " (Decimal('13'), 0.0),\n",
       " (Decimal('14'), 695467766062.0),\n",
       " (Decimal('15'), 4392586208663.0),\n",
       " (Decimal('16'), 8873316426106.0),\n",
       " (Decimal('17'), 11553978206175.0),\n",
       " (Decimal('18'), 12986173732349.0),\n",
       " (Decimal('19'), 14448285576891.0),\n",
       " (Decimal('20'), 13525191079212.0),\n",
       " (Decimal('21'), 8317347559.0),\n",
       " (Decimal('22'), 0.0),\n",
       " (Decimal('23'), 0.0),\n",
       " (None, None)]"
      ]
     },
     "execution_count": 5,
     "metadata": {},
     "output_type": "execute_result"
    }
   ],
   "source": [
    "cursor.execute('''\n",
    "SELECT \n",
    "\tDISTINCT EXTRACT(HOUR from time) AS hour, \n",
    "    SUM(day_volume) AS volume\n",
    "FROM \n",
    "    test_db.company AS com\n",
    "LEFT JOIN test_db.stock AS stk\n",
    "    ON com.symbol = stk.symbol\n",
    "GROUP BY \n",
    "    EXTRACT( hour from time)\n",
    "ORDER BY \n",
    "    EXTRACT( hour from time)\n",
    "''')\n",
    "lst_time = cursor.fetchall()\n",
    "lst_time"
   ]
  },
  {
   "cell_type": "code",
   "execution_count": 6,
   "metadata": {},
   "outputs": [
    {
     "data": {
      "text/plain": [
       "<Axes: xlabel='0'>"
      ]
     },
     "execution_count": 6,
     "metadata": {},
     "output_type": "execute_result"
    },
    {
     "data": {
      "image/png": "[encoded data removed]",
      "text/plain": [
       "<Figure size 640x480 with 1 Axes>"
      ]
     },
     "metadata": {},
     "output_type": "display_data"
    }
   ],
   "source": [
    "# quick chart, just to better visualize the output\n",
    "df_timeChart = pd.DataFrame(lst_time)\n",
    "df_timeChart.plot.line(x=0)"
   ]
  },
  {
   "cell_type": "markdown",
   "metadata": {},
   "source": [
    "We have 100 companies in our list. We will look for the top 5 regarding JUST volumen in our montly period. Once having that top 5 we'll compare the last week performance compared to the week before (LW) to see if there is a trend at first glance (no maths involved).\n",
    "<br>\n",
    "This will be a rank of the top 5 and not just filtering the top 5 with SQL LIMIT expression because in some cases a position could be share and we would miss that info. "
   ]
  },
  {
   "cell_type": "code",
   "execution_count": 7,
   "metadata": {},
   "outputs": [
    {
     "data": {
      "text/html": [
       "<div>\n",
       "<style scoped>\n",
       "    .dataframe tbody tr th:only-of-type {\n",
       "        vertical-align: middle;\n",
       "    }\n",
       "\n",
       "    .dataframe tbody tr th {\n",
       "        vertical-align: top;\n",
       "    }\n",
       "\n",
       "    .dataframe thead th {\n",
       "        text-align: right;\n",
       "    }\n",
       "</style>\n",
       "<table border=\"1\" class=\"dataframe\">\n",
       "  <thead>\n",
       "    <tr style=\"text-align: right;\">\n",
       "      <th></th>\n",
       "      <th>this_week_end_date</th>\n",
       "      <th>this_week_start_date</th>\n",
       "      <th>last_week_end_date</th>\n",
       "      <th>last_week_start_date</th>\n",
       "    </tr>\n",
       "  </thead>\n",
       "  <tbody>\n",
       "    <tr>\n",
       "      <th>0</th>\n",
       "      <td>2023-12-08</td>\n",
       "      <td>2023-12-02</td>\n",
       "      <td>2023-12-01</td>\n",
       "      <td>2023-11-25</td>\n",
       "    </tr>\n",
       "  </tbody>\n",
       "</table>\n",
       "</div>"
      ],
      "text/plain": [
       "  this_week_end_date this_week_start_date last_week_end_date  \\\n",
       "0         2023-12-08           2023-12-02         2023-12-01   \n",
       "\n",
       "  last_week_start_date  \n",
       "0           2023-11-25  "
      ]
     },
     "execution_count": 7,
     "metadata": {},
     "output_type": "execute_result"
    }
   ],
   "source": [
    "# the four dates that we are going to work with: start and end date of the last week and the previous one. \n",
    "cursor.execute('''\n",
    "\tSELECT \n",
    "\t\tMAX(time::DATE) as this_week_end_date,\n",
    "\t\tCAST(\n",
    "\t\t\t(MAX(time) - INTERVAL '6 day')\n",
    "\t\t\tAS DATE) AS this_week_start_date,\n",
    "\t\tCAST(\n",
    "\t\t\t(MAX(time) - INTERVAL '7 day')\n",
    "\t\t\tAS DATE) AS last_week_end_date,\n",
    "\t\tCAST(\n",
    "\t\t\t(MAX(time) - INTERVAL '13 day')\n",
    "\t\t\tAS DATE) AS last_week_start_date\n",
    "\tFROM\n",
    "\t\ttest_db.stock;\n",
    "''')\n",
    "pd.DataFrame(cursor.fetchall()).rename(columns={0: \"this_week_end_date\", 1: \"this_week_start_date\",2: \"last_week_end_date\", 3: \"last_week_start_date\"})\n"
   ]
  },
  {
   "cell_type": "code",
   "execution_count": 8,
   "metadata": {},
   "outputs": [
    {
     "data": {
      "text/html": [
       "<div>\n",
       "<style scoped>\n",
       "    .dataframe tbody tr th:only-of-type {\n",
       "        vertical-align: middle;\n",
       "    }\n",
       "\n",
       "    .dataframe tbody tr th {\n",
       "        vertical-align: top;\n",
       "    }\n",
       "\n",
       "    .dataframe thead th {\n",
       "        text-align: right;\n",
       "    }\n",
       "</style>\n",
       "<table border=\"1\" class=\"dataframe\">\n",
       "  <thead>\n",
       "    <tr style=\"text-align: right;\">\n",
       "      <th></th>\n",
       "      <th>company</th>\n",
       "      <th>volume(M)</th>\n",
       "      <th>share(%)</th>\n",
       "      <th>volume_Vs_LW(%)</th>\n",
       "    </tr>\n",
       "  </thead>\n",
       "  <tbody>\n",
       "    <tr>\n",
       "      <th>0</th>\n",
       "      <td>AMD</td>\n",
       "      <td>564955.0</td>\n",
       "      <td>16.1</td>\n",
       "      <td>147.0</td>\n",
       "    </tr>\n",
       "    <tr>\n",
       "      <th>1</th>\n",
       "      <td>Amazon</td>\n",
       "      <td>200805.0</td>\n",
       "      <td>5.7</td>\n",
       "      <td>41.0</td>\n",
       "    </tr>\n",
       "    <tr>\n",
       "      <th>2</th>\n",
       "      <td>Apple</td>\n",
       "      <td>289676.0</td>\n",
       "      <td>8.3</td>\n",
       "      <td>40.0</td>\n",
       "    </tr>\n",
       "    <tr>\n",
       "      <th>3</th>\n",
       "      <td>NVIDIA</td>\n",
       "      <td>167954.0</td>\n",
       "      <td>4.8</td>\n",
       "      <td>37.0</td>\n",
       "    </tr>\n",
       "    <tr>\n",
       "      <th>4</th>\n",
       "      <td>Tesla</td>\n",
       "      <td>652518.0</td>\n",
       "      <td>18.6</td>\n",
       "      <td>39.0</td>\n",
       "    </tr>\n",
       "  </tbody>\n",
       "</table>\n",
       "</div>"
      ],
      "text/plain": [
       "  company  volume(M) share(%)  volume_Vs_LW(%)\n",
       "0     AMD   564955.0     16.1            147.0\n",
       "1  Amazon   200805.0      5.7             41.0\n",
       "2   Apple   289676.0      8.3             40.0\n",
       "3  NVIDIA   167954.0      4.8             37.0\n",
       "4   Tesla   652518.0     18.6             39.0"
      ]
     },
     "execution_count": 8,
     "metadata": {},
     "output_type": "execute_result"
    }
   ],
   "source": [
    "# the tables and field names are self descriptive to avoid extra comments\n",
    "analysis_query = '''\n",
    "    WITH time_table AS (\n",
    "        SELECT \n",
    "            MAX(time::DATE) as this_week_end_date,\n",
    "            CAST(\n",
    "                (MAX(time) - INTERVAL '6 day')\n",
    "                AS DATE) AS this_week_start_date,\n",
    "            CAST(\n",
    "                (MAX(time) - INTERVAL '7 day')\n",
    "                AS DATE) AS last_week_end_date,\n",
    "            CAST(\n",
    "                (MAX(time) - INTERVAL '13 day')\n",
    "                AS DATE) AS last_week_start_date\n",
    "        FROM\n",
    "            test_db.stock\n",
    "    ),\n",
    "    this_week_sum AS (\n",
    "        SELECT DISTINCT\n",
    "            com.name AS company_name, \n",
    "            SUM(stk.day_volume) AS volume_sum\n",
    "        FROM \n",
    "            test_db.company AS com\n",
    "        LEFT JOIN test_db.stock AS stk\n",
    "            ON com.symbol = stk.symbol\n",
    "        WHERE\n",
    "            stk.time BETWEEN \n",
    "                (SELECT this_week_start_date FROM time_table) \n",
    "                AND \n",
    "                (SELECT this_week_end_date FROM time_table)\n",
    "        GROUP BY\n",
    "            com.name\n",
    "    ),\n",
    "    this_week_top_5_companies AS (\n",
    "        SELECT\n",
    "            company_name\n",
    "        FROM (\n",
    "            SELECT\n",
    "                company_name,\n",
    "                --volume_sum,\n",
    "                RANK() OVER(\n",
    "                    ORDER BY volume_sum DESC\n",
    "                    ) AS rank_companies\n",
    "            FROM (\n",
    "                SELECT * FROM this_week_sum\n",
    "                ) t1\n",
    "            ) AS t2\n",
    "        WHERE\n",
    "            rank_companies <=5\n",
    "    ),\n",
    "    this_week_total AS ( \n",
    "        SELECT SUM(volume_sum) AS volume_total \n",
    "        FROM this_week_sum\n",
    "    ),\n",
    "    last_week_sum AS (\n",
    "        SELECT DISTINCT\n",
    "            com.name AS company_name, \n",
    "            SUM(stk.day_volume) AS volume_sum\n",
    "        FROM \n",
    "            test_db.company AS com\n",
    "        LEFT JOIN test_db.stock AS stk\n",
    "            ON com.symbol = stk.symbol\n",
    "        WHERE\n",
    "            stk.time BETWEEN \n",
    "                (SELECT last_week_start_date FROM time_table) \n",
    "                AND \n",
    "                (SELECT last_week_end_date FROM time_table)\n",
    "        GROUP BY\n",
    "            com.name\n",
    "    )\n",
    "       \n",
    "    SELECT\n",
    "        tw.company_name,\n",
    "        ROUND(tw.volume_sum/1000000) AS \"volume(M)\",\n",
    "        ROUND((tw.volume_sum/(SELECT * FROM this_week_total)*100)::NUMERIC,1) AS \"share(%)\",\n",
    "        -- ROUND(lw.volume_sum/1000000) AS \"LW_volume(M)\",\n",
    "        ROUND(tw.volume_sum/lw.volume_sum*100) AS \"volume_Vs_LW(%)\"\n",
    "    FROM \n",
    "        this_week_sum AS tw\n",
    "    INNER JOIN last_week_sum AS lw\n",
    "        ON tw.company_name = lw.company_name\n",
    "    WHERE \n",
    "        tw.company_name IN (SELECT * FROM this_week_top_5_companies);\n",
    "\n",
    "'''\n",
    "cursor.execute(analysis_query)\n",
    "pd.DataFrame(cursor.fetchall()).rename(columns={0: \"company\", 1: \"volume(M)\", 2: \"share(%)\", 3: \"volume_Vs_LW(%)\"})"
   ]
  },
  {
   "cell_type": "markdown",
   "metadata": {},
   "source": [
    "Share is the \"total share\", not just among the top 5.\n",
    "<br>\n",
    "In this case we appreciate that AMD is the only one that has growth compared to the previous analysis period. \n",
    "<br>\n",
    "For further study we could multiply the volume by the price value to have the total sales. "
   ]
  },
  {
   "cell_type": "markdown",
   "metadata": {},
   "source": [
    "Here below we use a Timescale time-series functionality, first() & last(), and the \"bucket\" function to group by week.\n",
    "<br>\n",
    "Study case: for AMD, on 2023/12/01, we need to knwo the initial and final price to study that daily variaition figure. "
   ]
  },
  {
   "cell_type": "code",
   "execution_count": 16,
   "metadata": {},
   "outputs": [
    {
     "data": {
      "text/html": [
       "<div>\n",
       "<style scoped>\n",
       "    .dataframe tbody tr th:only-of-type {\n",
       "        vertical-align: middle;\n",
       "    }\n",
       "\n",
       "    .dataframe tbody tr th {\n",
       "        vertical-align: top;\n",
       "    }\n",
       "\n",
       "    .dataframe thead th {\n",
       "        text-align: right;\n",
       "    }\n",
       "</style>\n",
       "<table border=\"1\" class=\"dataframe\">\n",
       "  <thead>\n",
       "    <tr style=\"text-align: right;\">\n",
       "      <th></th>\n",
       "      <th>week</th>\n",
       "      <th>init_price</th>\n",
       "      <th>final_price</th>\n",
       "    </tr>\n",
       "  </thead>\n",
       "  <tbody>\n",
       "    <tr>\n",
       "      <th>0</th>\n",
       "      <td>2023-11-06</td>\n",
       "      <td>113.61</td>\n",
       "      <td>118.91</td>\n",
       "    </tr>\n",
       "    <tr>\n",
       "      <th>1</th>\n",
       "      <td>2023-11-13</td>\n",
       "      <td>117.96</td>\n",
       "      <td>120.84</td>\n",
       "    </tr>\n",
       "    <tr>\n",
       "      <th>2</th>\n",
       "      <td>2023-11-20</td>\n",
       "      <td>120.64</td>\n",
       "      <td>122.19</td>\n",
       "    </tr>\n",
       "    <tr>\n",
       "      <th>3</th>\n",
       "      <td>2023-11-27</td>\n",
       "      <td>121.94</td>\n",
       "      <td>121.48</td>\n",
       "    </tr>\n",
       "    <tr>\n",
       "      <th>4</th>\n",
       "      <td>2023-12-04</td>\n",
       "      <td>117.27</td>\n",
       "      <td>128.78</td>\n",
       "    </tr>\n",
       "  </tbody>\n",
       "</table>\n",
       "</div>"
      ],
      "text/plain": [
       "         week  init_price  final_price\n",
       "0  2023-11-06      113.61       118.91\n",
       "1  2023-11-13      117.96       120.84\n",
       "2  2023-11-20      120.64       122.19\n",
       "3  2023-11-27      121.94       121.48\n",
       "4  2023-12-04      117.27       128.78"
      ]
     },
     "execution_count": 16,
     "metadata": {},
     "output_type": "execute_result"
    }
   ],
   "source": [
    "price_query = '''\n",
    "\tSELECT\n",
    "\t\ttime_bucket('7 day', time)::DATE AS week,\n",
    "\t\tfirst(price,time),\n",
    "\t\tlast(price,time)\n",
    "\tFROM \n",
    "\t\ttest_db.stock\n",
    "\tWHERE 1=1\n",
    "\t\tAND symbol = 'AMD'\n",
    "\tGROUP BY \n",
    "\t\tweek\n",
    "'''\n",
    "cursor.execute(price_query)\n",
    "pd.DataFrame(cursor.fetchall()).rename(columns={0: \"week\", 1: \"init_price\", 2: \"final_price\"})"
   ]
  },
  {
   "cell_type": "markdown",
   "metadata": {},
   "source": [
    "####  END SESSION"
   ]
  },
  {
   "cell_type": "code",
   "execution_count": 12,
   "metadata": {},
   "outputs": [],
   "source": [
    "# commit changes to the database to make changes persistent\n",
    "conn.commit()"
   ]
  },
  {
   "cell_type": "code",
   "execution_count": 13,
   "metadata": {},
   "outputs": [],
   "source": [
    "# close cursor to end session and release resources.\n",
    "cursor.close()"
   ]
  }
 ],
 "metadata": {
  "kernelspec": {
   "display_name": "Python 3",
   "language": "python",
   "name": "python3"
  },
  "language_info": {
   "codemirror_mode": {
    "name": "ipython",
    "version": 3
   },
   "file_extension": ".py",
   "mimetype": "text/x-python",
   "name": "python",
   "nbconvert_exporter": "python",
   "pygments_lexer": "ipython3",
   "version": "3.11.1"
  }
 },
 "nbformat": 4,
 "nbformat_minor": 2
}
